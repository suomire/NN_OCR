{
 "cells": [
  {
   "cell_type": "code",
   "execution_count": 3,
   "metadata": {},
   "outputs": [
    {
     "name": "stdout",
     "output_type": "stream",
     "text": [
      "(1, 28, 28, 1)\n",
      "0.76888067\n",
      "D : 0.76888067\n"
     ]
    }
   ],
   "source": [
    "import cv2\n",
    "import tensorflow as tf \n",
    "import matplotlib.pyplot as plt\n",
    "from sklearn.preprocessing import MinMaxScaler\n",
    "\n",
    "output_labels = ['A','B','C','D','E','F','G','H','I','J','K','L','M','N','O','P','Q','R','S','T','U','V','W','X','Y','Z']\n",
    "\n",
    "def prepare(filepath):\n",
    "    IMG_SIZE = 28\n",
    "    img_arr = cv2.imread(filepath, cv2.IMREAD_GRAYSCALE)\n",
    "    new_arr = cv2.resize(img_arr, (IMG_SIZE,IMG_SIZE))\n",
    "    # scale data\n",
    "    standard_scaler = MinMaxScaler()\n",
    "    standard_scaler.fit(new_arr)\n",
    "    new_arr = standard_scaler.transform(new_arr)\n",
    "    return new_arr.reshape(-1, IMG_SIZE, IMG_SIZE, 1)\n",
    "\n",
    "pred_im = prepare('images/imagel.jpg') # #\"+\":; \"-\": A \n",
    "#\"+\": A, Y; \"-\": G, L, N, Q, S, T(J), \n",
    "\n",
    "print(pred_im.shape)\n",
    "model = tf.keras.models.load_model(\"model.h5\")\n",
    "prediction = model.predict([pred_im])\n",
    "\n",
    "list1=list(prediction[0])\n",
    "\n",
    "for i in range(26):\n",
    "    if (prediction[0].max() == list1[i]):\n",
    "        print(output_labels[i], ':', list1[i])\n",
    "\n"
   ]
  },
  {
   "cell_type": "code",
   "execution_count": null,
   "metadata": {},
   "outputs": [],
   "source": []
  }
 ],
 "metadata": {
  "kernelspec": {
   "display_name": "Python 3",
   "language": "python",
   "name": "python3"
  },
  "language_info": {
   "codemirror_mode": {
    "name": "ipython",
    "version": 3
   },
   "file_extension": ".py",
   "mimetype": "text/x-python",
   "name": "python",
   "nbconvert_exporter": "python",
   "pygments_lexer": "ipython3",
   "version": "3.7.4"
  }
 },
 "nbformat": 4,
 "nbformat_minor": 2
}
